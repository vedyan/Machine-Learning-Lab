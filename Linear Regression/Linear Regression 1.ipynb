{
 "cells": [
  {
   "cell_type": "code",
   "execution_count": 20,
   "id": "938dccb3",
   "metadata": {},
   "outputs": [
    {
     "data": {
      "text/html": [
       "<div>\n",
       "<style scoped>\n",
       "    .dataframe tbody tr th:only-of-type {\n",
       "        vertical-align: middle;\n",
       "    }\n",
       "\n",
       "    .dataframe tbody tr th {\n",
       "        vertical-align: top;\n",
       "    }\n",
       "\n",
       "    .dataframe thead th {\n",
       "        text-align: right;\n",
       "    }\n",
       "</style>\n",
       "<table border=\"1\" class=\"dataframe\">\n",
       "  <thead>\n",
       "    <tr style=\"text-align: right;\">\n",
       "      <th></th>\n",
       "      <th>Unnamed: 0</th>\n",
       "      <th>TV</th>\n",
       "      <th>radio</th>\n",
       "      <th>newspaper</th>\n",
       "      <th>sales</th>\n",
       "    </tr>\n",
       "  </thead>\n",
       "  <tbody>\n",
       "    <tr>\n",
       "      <th>0</th>\n",
       "      <td>1</td>\n",
       "      <td>230.1</td>\n",
       "      <td>37.8</td>\n",
       "      <td>69.2</td>\n",
       "      <td>22.1</td>\n",
       "    </tr>\n",
       "    <tr>\n",
       "      <th>1</th>\n",
       "      <td>2</td>\n",
       "      <td>44.5</td>\n",
       "      <td>39.3</td>\n",
       "      <td>45.1</td>\n",
       "      <td>10.4</td>\n",
       "    </tr>\n",
       "    <tr>\n",
       "      <th>2</th>\n",
       "      <td>3</td>\n",
       "      <td>17.2</td>\n",
       "      <td>45.9</td>\n",
       "      <td>69.3</td>\n",
       "      <td>9.3</td>\n",
       "    </tr>\n",
       "    <tr>\n",
       "      <th>3</th>\n",
       "      <td>4</td>\n",
       "      <td>151.5</td>\n",
       "      <td>41.3</td>\n",
       "      <td>58.5</td>\n",
       "      <td>18.5</td>\n",
       "    </tr>\n",
       "    <tr>\n",
       "      <th>4</th>\n",
       "      <td>5</td>\n",
       "      <td>180.8</td>\n",
       "      <td>10.8</td>\n",
       "      <td>58.4</td>\n",
       "      <td>12.9</td>\n",
       "    </tr>\n",
       "  </tbody>\n",
       "</table>\n",
       "</div>"
      ],
      "text/plain": [
       "   Unnamed: 0     TV  radio  newspaper  sales\n",
       "0           1  230.1   37.8       69.2   22.1\n",
       "1           2   44.5   39.3       45.1   10.4\n",
       "2           3   17.2   45.9       69.3    9.3\n",
       "3           4  151.5   41.3       58.5   18.5\n",
       "4           5  180.8   10.8       58.4   12.9"
      ]
     },
     "execution_count": 20,
     "metadata": {},
     "output_type": "execute_result"
    }
   ],
   "source": [
    "# mathimical operations\n",
    "import numpy as np\n",
    "# loding and cleaning csv data\n",
    "import pandas as pd\n",
    "\n",
    "import warnings\n",
    "warnings.filterwarnings('ignore')\n",
    "\n",
    "from sklearn.metrics import mean_squared_error,r2_score\n",
    "\n",
    "# saving my advertising data and save it into data(variable) which is basically pandas dataframe\n",
    "data = pd.read_csv(\"Advertising.csv\")\n",
    "# head prints the top 5 rows of my data\n",
    "data.head()"
   ]
  },
  {
   "cell_type": "code",
   "execution_count": 42,
   "id": "fc3725fa",
   "metadata": {},
   "outputs": [
    {
     "data": {
      "text/plain": [
       "Index(['Unnamed: 0', 'TV', 'radio', 'newspaper', 'sales'], dtype='object')"
      ]
     },
     "execution_count": 42,
     "metadata": {},
     "output_type": "execute_result"
    }
   ],
   "source": [
    "# now we analyze data before training\n",
    "# it will show how  many rows and colums we have in our data\n",
    "data.shape\n",
    "# shows data type of our data\n",
    "data.info\n",
    "#or\n",
    "data.describe\n",
    "# we get insight of our data i.e. we get mean, median(50% of our data), max.\n",
    "\n",
    "data.columns #colums and data type\n"
   ]
  },
  {
   "cell_type": "code",
   "execution_count": 22,
   "id": "dc47762e",
   "metadata": {},
   "outputs": [
    {
     "data": {
      "text/plain": [
       "(200, 5)"
      ]
     },
     "execution_count": 22,
     "metadata": {},
     "output_type": "execute_result"
    }
   ],
   "source": [
    "data.shape"
   ]
  },
  {
   "cell_type": "code",
   "execution_count": 23,
   "id": "da5bc327",
   "metadata": {},
   "outputs": [
    {
     "data": {
      "text/plain": [
       "<bound method DataFrame.info of      Unnamed: 0     TV  radio  newspaper  sales\n",
       "0             1  230.1   37.8       69.2   22.1\n",
       "1             2   44.5   39.3       45.1   10.4\n",
       "2             3   17.2   45.9       69.3    9.3\n",
       "3             4  151.5   41.3       58.5   18.5\n",
       "4             5  180.8   10.8       58.4   12.9\n",
       "..          ...    ...    ...        ...    ...\n",
       "195         196   38.2    3.7       13.8    7.6\n",
       "196         197   94.2    4.9        8.1    9.7\n",
       "197         198  177.0    9.3        6.4   12.8\n",
       "198         199  283.6   42.0       66.2   25.5\n",
       "199         200  232.1    8.6        8.7   13.4\n",
       "\n",
       "[200 rows x 5 columns]>"
      ]
     },
     "execution_count": 23,
     "metadata": {},
     "output_type": "execute_result"
    }
   ],
   "source": [
    "data.info\n"
   ]
  },
  {
   "cell_type": "code",
   "execution_count": 24,
   "id": "5d9e234a",
   "metadata": {},
   "outputs": [
    {
     "data": {
      "text/plain": [
       "<bound method NDFrame.describe of      Unnamed: 0     TV  radio  newspaper  sales\n",
       "0             1  230.1   37.8       69.2   22.1\n",
       "1             2   44.5   39.3       45.1   10.4\n",
       "2             3   17.2   45.9       69.3    9.3\n",
       "3             4  151.5   41.3       58.5   18.5\n",
       "4             5  180.8   10.8       58.4   12.9\n",
       "..          ...    ...    ...        ...    ...\n",
       "195         196   38.2    3.7       13.8    7.6\n",
       "196         197   94.2    4.9        8.1    9.7\n",
       "197         198  177.0    9.3        6.4   12.8\n",
       "198         199  283.6   42.0       66.2   25.5\n",
       "199         200  232.1    8.6        8.7   13.4\n",
       "\n",
       "[200 rows x 5 columns]>"
      ]
     },
     "execution_count": 24,
     "metadata": {},
     "output_type": "execute_result"
    }
   ],
   "source": [
    "data.describe"
   ]
  },
  {
   "cell_type": "code",
   "execution_count": 25,
   "id": "293e4cec",
   "metadata": {},
   "outputs": [
    {
     "data": {
      "text/plain": [
       "Index(['Unnamed: 0', 'TV', 'radio', 'newspaper', 'sales'], dtype='object')"
      ]
     },
     "execution_count": 25,
     "metadata": {},
     "output_type": "execute_result"
    }
   ],
   "source": [
    "data.columns"
   ]
  },
  {
   "cell_type": "code",
   "execution_count": 26,
   "id": "d6bd05bd",
   "metadata": {},
   "outputs": [],
   "source": [
    "# before trainining a model we visualize our data to see trend and find pattern for that we use\n",
    "# draw graph\n",
    "import matplotlib.pyplot as plt\n",
    "# draw graph advance\n",
    "import seaborn as sns\n"
   ]
  },
  {
   "cell_type": "code",
   "execution_count": 27,
   "id": "d0712fb4",
   "metadata": {
    "scrolled": true
   },
   "outputs": [
    {
     "data": {
      "text/plain": [
       "<seaborn.axisgrid.PairGrid at 0x2001d15f520>"
      ]
     },
     "execution_count": 27,
     "metadata": {},
     "output_type": "execute_result"
    },
    {
     "data": {
      "image/png": "[encoded data removed]",
      "text/plain": [
       "<Figure size 864x288 with 3 Axes>"
      ]
     },
     "metadata": {
      "needs_background": "light"
     },
     "output_type": "display_data"
    }
   ],
   "source": [
    "sns.pairplot(data, x_vars=['TV','newspaper','radio'], y_vars='sales',size=4, aspect=1, kind='scatter')\n",
    "# 3 graph we get tv news radio using dataset(data) where x value is tv news radio and yaxis is our sales so it is\n",
    "# tv vs sales graph respectively\n",
    "\n",
    "# the graph we get will show how datapoints affecting sales in tv are very close to each other than the other two hence\n",
    "# we can conclude sales in tv is better than other two\n"
   ]
  },
  {
   "cell_type": "code",
   "execution_count": 43,
   "id": "c08cb2c1",
   "metadata": {},
   "outputs": [
    {
     "data": {
      "image/png": "[encoded data removed]",
      "text/plain": [
       "<Figure size 432x288 with 2 Axes>"
      ]
     },
     "metadata": {
      "needs_background": "light"
     },
     "output_type": "display_data"
    }
   ],
   "source": [
    "# another chart to show corelation between variables is heatmap\n",
    "sns.heatmap(data.corr(), cmap=\"YlGnBu\", annot=True )\n",
    "\n",
    "plt.show() #not nessesory if using jupyter\n",
    "# in graph darker shade means high corelation while lighter shade means low\n",
    "# 1st row TV have very high corr 0.9 btwn tv and sales\n",
    "\n",
    "# from this we conclude that sales is more dependent on tv variable\n",
    "# so for further process we consider tv as our predected variable and sales as our target variable"
   ]
  },
  {
   "cell_type": "code",
   "execution_count": 32,
   "id": "db5b2c01",
   "metadata": {},
   "outputs": [],
   "source": [
    "# now we create X and y in X we put predictive variable and in y we put target variable\n",
    "X = data['TV']\n",
    "y = data['sales']"
   ]
  },
  {
   "cell_type": "code",
   "execution_count": 33,
   "id": "a2d54521",
   "metadata": {},
   "outputs": [],
   "source": [
    "# split our data in train and test ie half of model is used for training and other half will be used for testing\n",
    "from sklearn.model_selection import train_test_split\n",
    "X_train, X_test, y_train, y_test = train_test_split(X,y, train_size = 0.7, test_size = 0.3, random_state = 100)\n",
    "# train_test_split fn take Xandy pred var and target var respectively 0.7 means on 70% of data we train our model and\n",
    "# rest 30%data we use for testing our model\n",
    "# and take random rows for fair result, also we return values to xtrain,xtest, ytrain ytest"
   ]
  },
  {
   "cell_type": "code",
   "execution_count": 35,
   "id": "de44e9d0",
   "metadata": {},
   "outputs": [
    {
     "data": {
      "text/plain": [
       "74     213.4\n",
       "3      151.5\n",
       "185    205.0\n",
       "26     142.9\n",
       "90     134.3\n",
       "Name: TV, dtype: float64"
      ]
     },
     "execution_count": 35,
     "metadata": {},
     "output_type": "execute_result"
    }
   ],
   "source": [
    "X_train.head()\n",
    "# to check train dataset"
   ]
  },
  {
   "cell_type": "code",
   "execution_count": 36,
   "id": "80514ce8",
   "metadata": {},
   "outputs": [
    {
     "data": {
      "text/plain": [
       "74     17.0\n",
       "3      18.5\n",
       "185    22.6\n",
       "26     15.0\n",
       "90     11.2\n",
       "Name: sales, dtype: float64"
      ]
     },
     "execution_count": 36,
     "metadata": {},
     "output_type": "execute_result"
    }
   ],
   "source": [
    "y_train.head()\n",
    "# to check train dataset"
   ]
  },
  {
   "cell_type": "code",
   "execution_count": 37,
   "id": "ecced8ee",
   "metadata": {},
   "outputs": [],
   "source": [
    "# now to perform linear regression we import LR lib by using either one of these:\n",
    "from sklearn.linear_model import LinearRegression\n",
    "# or\n",
    "import statsmodels.api as sm\n"
   ]
  },
  {
   "cell_type": "code",
   "execution_count": 38,
   "id": "0e8c19ba",
   "metadata": {},
   "outputs": [],
   "source": [
    "# limitation with stack model is by default it doesn't add \"c\"(y intercept) so manually we add constant fn\n",
    "# using \"add_constant\"\n",
    "X_train_sm = sm.add_constant(X_train)  # adding constant to get intercept"
   ]
  },
  {
   "cell_type": "code",
   "execution_count": 39,
   "id": "6bd528ca",
   "metadata": {},
   "outputs": [],
   "source": [
    "# OLS is ordinanary least square to fit the regression line, we pass our training data to this fn which trains the\n",
    "# model using equation for LR and stored in variable named lr\n",
    "lr = sm.OLS(y_train, X_train_sm).fit()"
   ]
  },
  {
   "cell_type": "code",
   "execution_count": 40,
   "id": "9ac69d29",
   "metadata": {},
   "outputs": [
    {
     "data": {
      "text/plain": [
       "const    6.989666\n",
       "TV       0.046497\n",
       "dtype: float64"
      ]
     },
     "execution_count": 40,
     "metadata": {},
     "output_type": "execute_result"
    }
   ],
   "source": [
    "# print parameters i.e. the intercept and slope of regression line fitted\n",
    "lr.params"
   ]
  },
  {
   "cell_type": "code",
   "execution_count": 44,
   "id": "4fdfffae",
   "metadata": {},
   "outputs": [
    {
     "name": "stdout",
     "output_type": "stream",
     "text": [
      "                            OLS Regression Results                            \n",
      "==============================================================================\n",
      "Dep. Variable:                  sales   R-squared:                       0.613\n",
      "Model:                            OLS   Adj. R-squared:                  0.611\n",
      "Method:                 Least Squares   F-statistic:                     219.0\n",
      "Date:                Mon, 18 Mar 2024   Prob (F-statistic):           2.84e-30\n",
      "Time:                        09:18:55   Log-Likelihood:                -370.62\n",
      "No. Observations:                 140   AIC:                             745.2\n",
      "Df Residuals:                     138   BIC:                             751.1\n",
      "Df Model:                           1                                         \n",
      "Covariance Type:            nonrobust                                         \n",
      "==============================================================================\n",
      "                 coef    std err          t      P>|t|      [0.025      0.975]\n",
      "------------------------------------------------------------------------------\n",
      "const          6.9897      0.548     12.762      0.000       5.907       8.073\n",
      "TV             0.0465      0.003     14.798      0.000       0.040       0.053\n",
      "==============================================================================\n",
      "Omnibus:                        0.995   Durbin-Watson:                   1.983\n",
      "Prob(Omnibus):                  0.608   Jarque-Bera (JB):                0.970\n",
      "Skew:                          -0.008   Prob(JB):                        0.616\n",
      "Kurtosis:                       2.593   Cond. No.                         328.\n",
      "==============================================================================\n",
      "\n",
      "Notes:\n",
      "[1] Standard Errors assume that the covariance matrix of the errors is correctly specified.\n"
     ]
    }
   ],
   "source": [
    "print(lr.summary())"
   ]
  },
  {
   "cell_type": "code",
   "execution_count": 45,
   "id": "7a20de21",
   "metadata": {},
   "outputs": [
    {
     "name": "stdout",
     "output_type": "stream",
     "text": [
      "74     16.912202\n",
      "3      14.034016\n",
      "185    16.521624\n",
      "26     13.634138\n",
      "90     13.234261\n",
      "         ...    \n",
      "87     12.136923\n",
      "103    15.726520\n",
      "67     13.466748\n",
      "24      9.886451\n",
      "8       7.389543\n",
      "Length: 140, dtype: float64\n"
     ]
    }
   ],
   "source": [
    "# we are pridicting the value which is stored in Xtrain dataset and storing it in ytrain\n",
    "y_train_pred = lr.predict(X_train_sm)\n",
    "print(y_train_pred)\n",
    "#left side all are input and right side all are predictions"
   ]
  },
  {
   "cell_type": "code",
   "execution_count": 46,
   "id": "f72250ee",
   "metadata": {},
   "outputs": [],
   "source": [
    "# now for recidual formula is diff btwn actual value and pred value\n",
    "res = (y_train - y_train_pred)"
   ]
  },
  {
   "cell_type": "code",
   "execution_count": 49,
   "id": "e226a212",
   "metadata": {},
   "outputs": [
    {
     "data": {
      "image/png": "[encoded data removed]",
      "text/plain": [
       "<Figure size 432x288 with 1 Axes>"
      ]
     },
     "metadata": {
      "needs_background": "light"
     },
     "output_type": "display_data"
    }
   ],
   "source": [
    "# now to see its visual we draw a graph using lib matplotlib\n",
    "fig = plt.figure() # we initilise figure and class(plt)\n",
    "sns.distplot(res, bins = 15) #we use sns lib to use distplot(distribution plot coz recidual should be normally distributed)\n",
    "# so we pass residual and bins (horizontal blocks like structure shown in graph and 15 is number of blocks)\n",
    "fig.suptitle('Error Terms', fontsize = 15) #to give title of graph\n",
    "plt.xlabel('res', fontsize = 15)  #res\n",
    "plt.show()\n",
    "# we can observe that centre of this curve is nearby zero which is good\n",
    "# and we can say res is normally distributed\n"
   ]
  },
  {
   "cell_type": "code",
   "execution_count": 50,
   "id": "bbabe61d",
   "metadata": {},
   "outputs": [
    {
     "data": {
      "image/png": "[encoded data removed]",
      "text/plain": [
       "<Figure size 432x288 with 1 Axes>"
      ]
     },
     "metadata": {
      "needs_background": "light"
     },
     "output_type": "display_data"
    }
   ],
   "source": [
    "# now we can observe pattern in our residual for that\n",
    "plt.scatter(X_train,res)\n",
    "plt.show()"
   ]
  },
  {
   "cell_type": "code",
   "execution_count": 51,
   "id": "1935a0d4",
   "metadata": {},
   "outputs": [
    {
     "data": {
      "text/plain": [
       "126     7.352345\n",
       "104    18.065337\n",
       "99     13.276109\n",
       "92     17.112141\n",
       "111    18.228077\n",
       "dtype: float64"
      ]
     },
     "execution_count": 51,
     "metadata": {},
     "output_type": "execute_result"
    }
   ],
   "source": [
    "# now imagin a horizontal line from 0 of yaxis parallel to x axis \n",
    "# we observe all datapoints are close to that line so our data points seems to equally distributed\n",
    "\n",
    "\n",
    "# now we will do prediction on test model\n",
    "\n",
    "# again\n",
    "# limitation with stack model is by default it doesn't add \"c\"(y intercept) so manually we add constant fn\n",
    "# using \"add_constant\"\n",
    "\n",
    "X_test_sm = sm.add_constant(X_test) # Add a constant to X_test\n",
    "y_pred = lr.predict(X_test_sm) #passing to our model to pred value\n",
    "y_pred.head()\n",
    "\n"
   ]
  },
  {
   "cell_type": "code",
   "execution_count": 52,
   "id": "3f4b0e51",
   "metadata": {},
   "outputs": [],
   "source": [
    "from sklearn.metrics import mean_squared_error,r2_score\n",
    "# this will import both mean sq error and r2 score\n",
    "# we need this for doing evaluation of our model\n",
    "\n"
   ]
  },
  {
   "cell_type": "code",
   "execution_count": 53,
   "id": "de42306a",
   "metadata": {},
   "outputs": [
    {
     "data": {
      "text/plain": [
       "0.59429872677833"
      ]
     },
     "execution_count": 53,
     "metadata": {},
     "output_type": "execute_result"
    }
   ],
   "source": [
    "r_squared = r2_score(y_test, y_pred) #ytest and ypred values we passing in rsquare\n",
    "r_squared\n",
    "# 59% of data model is predicting\n",
    "# in trainig i was getting R-squared: 0.613\n",
    "# as r2 is close to 1 that means all data points are closer to line and line fits perfectly"
   ]
  },
  {
   "cell_type": "code",
   "execution_count": 56,
   "id": "1f701e82",
   "metadata": {},
   "outputs": [
    {
     "name": "stdout",
     "output_type": "stream",
     "text": [
      "27.221853015075364\n"
     ]
    },
    {
     "data": {
      "text/plain": [
       "2.8241456288327016"
      ]
     },
     "execution_count": 56,
     "metadata": {},
     "output_type": "execute_result"
    }
   ],
   "source": [
    "# now for mean square\n",
    "print(data[\"sales\"].var())\n",
    "np.sqrt(mean_squared_error(y_test, y_pred))\n",
    "# metric to measure avg square btwn pred and actual value\n",
    "# metric to evaluate efficiency of the model\n",
    "# mean sq error should be lower than variance of target var() sq\n"
   ]
  },
  {
   "cell_type": "code",
   "execution_count": 57,
   "id": "5d84967c",
   "metadata": {},
   "outputs": [
    {
     "data": {
      "image/png": "[encoded data removed]",
      "text/plain": [
       "<Figure size 432x288 with 1 Axes>"
      ]
     },
     "metadata": {
      "needs_background": "light"
     },
     "output_type": "display_data"
    }
   ],
   "source": [
    "# now visualize the fit on text set\n",
    "plt.scatter(X_test, y_test)\n",
    "plt.plot(X_test, y_pred, 'r')\n",
    "plt.show()\n",
    "# normally distributed so model is performing well"
   ]
  },
  {
   "cell_type": "code",
   "execution_count": null,
   "id": "d4ed6fa3",
   "metadata": {},
   "outputs": [],
   "source": []
  }
 ],
 "metadata": {
  "kernelspec": {
   "display_name": "Python 3 (ipykernel)",
   "language": "python",
   "name": "python3"
  },
  "language_info": {
   "codemirror_mode": {
    "name": "ipython",
    "version": 3
   },
   "file_extension": ".py",
   "mimetype": "text/x-python",
   "name": "python",
   "nbconvert_exporter": "python",
   "pygments_lexer": "ipython3",
   "version": "3.9.7"
  }
 },
 "nbformat": 4,
 "nbformat_minor": 5
}
